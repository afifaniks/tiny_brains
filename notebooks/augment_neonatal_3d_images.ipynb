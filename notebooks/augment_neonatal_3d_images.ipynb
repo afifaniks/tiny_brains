{
 "cells": [
  {
   "cell_type": "code",
   "execution_count": 1,
   "metadata": {},
   "outputs": [],
   "source": [
    "import torchio as tio\n",
    "import os\n",
    "import nibabel as nib\n",
    "from tqdm import tqdm"
   ]
  },
  {
   "cell_type": "code",
   "execution_count": 2,
   "metadata": {},
   "outputs": [],
   "source": [
    "source_data_dir = \"../assets/source_neonatal_images\""
   ]
  },
  {
   "cell_type": "code",
   "execution_count": 3,
   "metadata": {},
   "outputs": [],
   "source": [
    "test_data_dir = \"../assets/source_neonatal_images_test\""
   ]
  },
  {
   "cell_type": "code",
   "execution_count": 4,
   "metadata": {},
   "outputs": [],
   "source": [
    "destination_data_dir = \"../assets/neonatal_motion_corrupted\""
   ]
  },
  {
   "cell_type": "code",
   "execution_count": 5,
   "metadata": {},
   "outputs": [],
   "source": [
    "destination_test_data_dir = \"../assets/neonatal_motion_corrupted_test\""
   ]
  },
  {
   "cell_type": "code",
   "execution_count": 6,
   "metadata": {},
   "outputs": [],
   "source": [
    "source_images = os.listdir(source_data_dir)"
   ]
  },
  {
   "cell_type": "code",
   "execution_count": 7,
   "metadata": {},
   "outputs": [],
   "source": [
    "test_images = os.listdir(test_data_dir)"
   ]
  },
  {
   "cell_type": "code",
   "execution_count": 8,
   "metadata": {},
   "outputs": [],
   "source": [
    "motion_transformation = tio.transforms.RandomMotion(\n",
    "    degrees=5,\n",
    "    translation=10,\n",
    "    num_transforms=3\n",
    ")"
   ]
  },
  {
   "cell_type": "code",
   "execution_count": 9,
   "metadata": {},
   "outputs": [],
   "source": [
    "output_shape = (256, 288, 288)\n",
    "\n",
    "crop_or_pad = tio.CropOrPad(output_shape)"
   ]
  },
  {
   "cell_type": "code",
   "execution_count": 10,
   "metadata": {},
   "outputs": [],
   "source": [
    "def transform_and_save_images(images, source_dir, destination_dir):\n",
    "\n",
    "    for image in tqdm(images):\n",
    "        if image == \".DS_Store\":\n",
    "            continue\n",
    "\n",
    "        three_d_image = nib.load(os.path.join(source_dir, image))\n",
    "\n",
    "        three_d_image = crop_or_pad(three_d_image)\n",
    "\n",
    "        transformed_image = motion_transformation(three_d_image)\n",
    "        nib.save(three_d_image, os.path.join(source_dir, image))\n",
    "        nib.save(transformed_image, os.path.join(destination_dir, image))"
   ]
  },
  {
   "cell_type": "code",
   "execution_count": 11,
   "metadata": {},
   "outputs": [
    {
     "name": "stderr",
     "output_type": "stream",
     "text": [
      "  0%|          | 0/359 [00:00<?, ?it/s]"
     ]
    },
    {
     "name": "stderr",
     "output_type": "stream",
     "text": [
      "100%|██████████| 359/359 [11:46<00:00,  1.97s/it]\n"
     ]
    }
   ],
   "source": [
    "transform_and_save_images(source_images, source_data_dir, destination_data_dir)"
   ]
  },
  {
   "cell_type": "code",
   "execution_count": 12,
   "metadata": {},
   "outputs": [
    {
     "name": "stderr",
     "output_type": "stream",
     "text": [
      "100%|██████████| 60/60 [01:45<00:00,  1.76s/it]\n"
     ]
    }
   ],
   "source": [
    "transform_and_save_images(test_images, test_data_dir, destination_test_data_dir)"
   ]
  },
  {
   "cell_type": "code",
   "execution_count": null,
   "metadata": {},
   "outputs": [],
   "source": []
  }
 ],
 "metadata": {
  "kernelspec": {
   "display_name": "venv",
   "language": "python",
   "name": "python3"
  },
  "language_info": {
   "codemirror_mode": {
    "name": "ipython",
    "version": 3
   },
   "file_extension": ".py",
   "mimetype": "text/x-python",
   "name": "python",
   "nbconvert_exporter": "python",
   "pygments_lexer": "ipython3",
   "version": "3.11.8"
  }
 },
 "nbformat": 4,
 "nbformat_minor": 2
}
