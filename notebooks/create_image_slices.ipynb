{
 "cells": [
  {
   "cell_type": "code",
   "execution_count": 1,
   "id": "initial_id",
   "metadata": {
    "ExecuteTime": {
     "end_time": "2024-03-25T19:16:27.227793Z",
     "start_time": "2024-03-25T19:16:26.619428Z"
    },
    "collapsed": true
   },
   "outputs": [],
   "source": [
    "import os\n",
    "\n",
    "import nibabel as nib\n",
    "import scipy.ndimage as ndi\n",
    "from PIL import Image\n",
    "import numpy as np\n",
    "from matplotlib import pyplot as plt\n",
    "import cv2\n",
    "from sklearn.preprocessing import minmax_scale\n",
    "import random\n",
    "import image_augmentation_util"
   ]
  },
  {
   "cell_type": "code",
   "execution_count": 2,
   "id": "aa2634981c80e2e2",
   "metadata": {
    "ExecuteTime": {
     "end_time": "2024-03-25T19:20:01.870511Z",
     "start_time": "2024-03-25T19:20:01.862371Z"
    },
    "collapsed": false
   },
   "outputs": [],
   "source": [
    "source_data_dir = \"../assets/source_images\"\n",
    "output_train_dir = \"../assets/train_images/train\"\n",
    "output_val_dir = \"../assets/train_images/val\""
   ]
  },
  {
   "cell_type": "code",
   "execution_count": 3,
   "id": "21b8c93922d98caa",
   "metadata": {
    "ExecuteTime": {
     "end_time": "2024-03-25T19:16:28.599824Z",
     "start_time": "2024-03-25T19:16:28.597054Z"
    },
    "collapsed": false
   },
   "outputs": [
    {
     "name": "stdout",
     "output_type": "stream",
     "text": [
      "359\n"
     ]
    }
   ],
   "source": [
    "images = os.listdir(source_data_dir)\n",
    "print(len(images))"
   ]
  },
  {
   "cell_type": "code",
   "execution_count": 4,
   "id": "f6e9d33096e2e7a4",
   "metadata": {
    "ExecuteTime": {
     "end_time": "2024-03-25T19:16:29.217412Z",
     "start_time": "2024-03-25T19:16:29.214150Z"
    },
    "collapsed": false
   },
   "outputs": [
    {
     "data": {
      "text/plain": [
       "'CC0011_philips_15_49_F.nii'"
      ]
     },
     "execution_count": 4,
     "metadata": {},
     "output_type": "execute_result"
    }
   ],
   "source": [
    "images[10]"
   ]
  },
  {
   "cell_type": "code",
   "execution_count": 5,
   "id": "2aae72b446d7da8",
   "metadata": {
    "ExecuteTime": {
     "end_time": "2024-03-25T19:16:30.241800Z",
     "start_time": "2024-03-25T19:16:30.238913Z"
    },
    "collapsed": false
   },
   "outputs": [],
   "source": [
    "def read_3d_image(source_dir):\n",
    "    three_d_image = nib.load(source_dir)\n",
    "    \n",
    "    return three_d_image"
   ]
  },
  {
   "cell_type": "code",
   "execution_count": 6,
   "id": "afbede38f89197c2",
   "metadata": {
    "ExecuteTime": {
     "end_time": "2024-03-25T19:20:05.154727Z",
     "start_time": "2024-03-25T19:20:05.151086Z"
    },
    "collapsed": false
   },
   "outputs": [],
   "source": [
    "def save_slice_from_3d_data(source_dir, slice_number, output_dir, output_filename, max_height, max_width, augment=False):\n",
    "    # read image\n",
    "    three_d_image = read_3d_image(source_dir)\n",
    "    three_d_image_data = three_d_image.get_fdata()\n",
    "    if augment:\n",
    "        image_slice = image_augmentation_util.augment_image(three_d_image_data, max_height=max_height, max_width=max_width, thresh_translation=10, thresh_rotation_angle=5, slice_number=slice_number)\n",
    "        output_path = os.path.join(output_dir, \"data\", output_filename)\n",
    "    else:\n",
    "        image_slice = ndi.rotate(three_d_image_data[:, :, slice_number], 90)\n",
    "        image_slice = image_augmentation_util.pad_image(image_slice, max_height, max_width)\n",
    "        output_path = os.path.join(output_dir, \"gt\", output_filename)\n",
    "    \n",
    "    # scale image to 0-255\n",
    "    scaled_image_slice = minmax_scale(image_slice.ravel(), feature_range=(0,255)).reshape(image_slice.shape)\n",
    "    \n",
    "    # pad images to be a constant size\n",
    "    # pad_value = 0\n",
    "    # height_diff = max_height - scaled_image_slice.shape[0]\n",
    "    # width_diff = max_width - scaled_image_slice.shape[1]\n",
    "    # top_pad = height_diff // 2\n",
    "    # bottom_pad = height_diff - top_pad\n",
    "    # left_pad = width_diff // 2\n",
    "    # right_pad = width_diff - left_pad\n",
    "\n",
    "    # Pad the image\n",
    "    # min_pixel = np.min(scaled_image_slice)\n",
    "    # padded_image = np.pad(scaled_image_slice, ((top_pad, bottom_pad), (left_pad, right_pad)), mode='median')\n",
    "    \n",
    "    image_slice_pil = Image.fromarray(scaled_image_slice)\n",
    "    image_slice_pil = image_slice_pil.convert('L')\n",
    "    image_slice_pil.save(output_path)\n",
    "    return scaled_image_slice.shape"
   ]
  },
  {
   "cell_type": "code",
   "execution_count": 8,
   "id": "c316933445b6e868",
   "metadata": {
    "ExecuteTime": {
     "start_time": "2024-03-25T19:21:50.188748Z"
    },
    "collapsed": false,
    "is_executing": true
   },
   "outputs": [
    {
     "name": "stdout",
     "output_type": "stream",
     "text": [
      "Translated for 1 pixels\n",
      "Rotated 3.114401855872199 degrees in x axis\n",
      "Rotated -2.913911277073268 degrees in y axis\n",
      "Rotated -2.417587018417231 degrees in z axis\n",
      "Translated for -1 pixels\n",
      "Rotated -3.557843334559423 degrees in x axis\n",
      "Rotated -0.44144918572818703 degrees in y axis\n",
      "Rotated -2.54496547316438 degrees in z axis\n",
      "Translated for -7 pixels\n",
      "Rotated 2.25888392147235 degrees in x axis\n",
      "Rotated -0.9642865715872393 degrees in y axis\n",
      "Rotated 1.691370390801855 degrees in z axis\n",
      "Translated for 1 pixels\n",
      "Rotated -4.263159226889365 degrees in x axis\n",
      "Rotated -0.5683514072329192 degrees in y axis\n",
      "Rotated 2.0808190596228275 degrees in z axis\n",
      "Translated for -8 pixels\n",
      "Rotated -0.9092493727705007 degrees in x axis\n",
      "Rotated -3.699605839439627 degrees in y axis\n",
      "Rotated 1.8146129262534005 degrees in z axis\n",
      "Translated for 9 pixels\n",
      "Rotated 0.08200303109455653 degrees in x axis\n",
      "Rotated -2.9374805660427783 degrees in y axis\n",
      "Rotated -4.978857557274395 degrees in z axis\n",
      "Translated for -8 pixels\n",
      "Rotated -2.3850207540803425 degrees in x axis\n",
      "Rotated 0.6455796717674982 degrees in y axis\n",
      "Rotated -0.24844226106457956 degrees in z axis\n",
      "Translated for 2 pixels\n",
      "Rotated 2.0908397368666183 degrees in x axis\n",
      "Rotated 4.178621890212842 degrees in y axis\n",
      "Rotated -0.8954436004473818 degrees in z axis\n",
      "Translated for -6 pixels\n",
      "Rotated -2.454903603065498 degrees in x axis\n",
      "Rotated 0.9603264859033454 degrees in y axis\n",
      "Rotated 1.2009265310443515 degrees in z axis\n",
      "Translated for -10 pixels\n",
      "Rotated 1.8209591478738476 degrees in x axis\n",
      "Rotated 1.6314454749003637 degrees in y axis\n",
      "Rotated -4.27333742806843 degrees in z axis\n",
      "Translated for 9 pixels\n",
      "Rotated 0.8181828209780697 degrees in x axis\n",
      "Rotated -3.3597693665984965 degrees in y axis\n",
      "Rotated -2.369713240854756 degrees in z axis\n",
      "Translated for -3 pixels\n",
      "Rotated -3.215614062828992 degrees in x axis\n",
      "Rotated 2.5540671851697274 degrees in y axis\n",
      "Rotated -2.3045901414734358 degrees in z axis\n",
      "Translated for -4 pixels\n",
      "Rotated 2.670964465199356 degrees in x axis\n",
      "Rotated 3.6516574737853844 degrees in y axis\n",
      "Rotated -4.862388760359338 degrees in z axis\n",
      "Translated for 4 pixels\n",
      "Rotated -4.088332622713793 degrees in x axis\n",
      "Rotated -2.7960029538861475 degrees in y axis\n",
      "Rotated 2.5027957963165868 degrees in z axis\n",
      "Translated for 8 pixels\n",
      "Rotated -2.2988648181749483 degrees in x axis\n",
      "Rotated 4.2868526365085895 degrees in y axis\n",
      "Rotated 3.0188151947717436 degrees in z axis\n",
      "Translated for -5 pixels\n",
      "Rotated 0.7188817320315755 degrees in x axis\n",
      "Rotated -2.8046248588703717 degrees in y axis\n",
      "Rotated 1.7887854526689173 degrees in z axis\n",
      "Translated for -10 pixels\n",
      "Rotated 2.372602246854388 degrees in x axis\n",
      "Rotated -1.6112878783320426 degrees in y axis\n",
      "Rotated 2.9191464517635506 degrees in z axis\n",
      "Translated for 8 pixels\n",
      "Rotated 0.2726502880323469 degrees in x axis\n",
      "Rotated 2.1628769846577125 degrees in y axis\n",
      "Rotated 2.705971567809195 degrees in z axis\n",
      "Translated for 8 pixels\n",
      "Rotated 0.057982217587841056 degrees in x axis\n",
      "Rotated -3.9717140021691257 degrees in y axis\n",
      "Rotated -4.4429686135773725 degrees in z axis\n",
      "Translated for 5 pixels\n",
      "Rotated 2.0834139766188207 degrees in x axis\n",
      "Rotated -2.3491491048181032 degrees in y axis\n",
      "Rotated -1.096418000451159 degrees in z axis\n",
      "Translated for 3 pixels\n",
      "Rotated 4.727717751201844 degrees in x axis\n",
      "Rotated 2.593270162006659 degrees in y axis\n",
      "Rotated 0.21586057094538447 degrees in z axis\n",
      "Translated for 9 pixels\n",
      "Rotated 4.0423628767564495 degrees in x axis\n",
      "Rotated 0.6595382995773438 degrees in y axis\n",
      "Rotated -2.5860688808516663 degrees in z axis\n",
      "Translated for 2 pixels\n",
      "Rotated 2.966347588731554 degrees in x axis\n",
      "Rotated -2.834859123973076 degrees in y axis\n",
      "Rotated 0.6955746139888399 degrees in z axis\n",
      "Translated for 5 pixels\n",
      "Rotated -0.46512074560846806 degrees in x axis\n",
      "Rotated -0.9547276580707118 degrees in y axis\n",
      "Rotated -4.322363522360318 degrees in z axis\n",
      "Translated for 5 pixels\n",
      "Rotated 0.5340676979457122 degrees in x axis\n",
      "Rotated -2.9748432141872136 degrees in y axis\n",
      "Rotated -3.139884197474024 degrees in z axis\n",
      "Translated for 6 pixels\n",
      "Rotated 4.582922601465972 degrees in x axis\n",
      "Rotated 2.0411532228958613 degrees in y axis\n",
      "Rotated 4.431457317805348 degrees in z axis\n",
      "Translated for 4 pixels\n",
      "Rotated -3.4548379487620364 degrees in x axis\n",
      "Rotated 2.7474357187117633 degrees in y axis\n",
      "Rotated -3.0063161778334937 degrees in z axis\n",
      "Translated for -9 pixels\n",
      "Rotated 0.3970188166124524 degrees in x axis\n",
      "Rotated 1.6970031570923112 degrees in y axis\n",
      "Rotated 3.420713340530874 degrees in z axis\n",
      "Translated for -3 pixels\n",
      "Rotated -4.609585961647317 degrees in x axis\n",
      "Rotated -1.3856614193434238 degrees in y axis\n",
      "Rotated -1.454072501158512 degrees in z axis\n",
      "Translated for -7 pixels\n",
      "Rotated 3.9098941675459358 degrees in x axis\n",
      "Rotated -0.9309825793403439 degrees in y axis\n",
      "Rotated -4.798841883904332 degrees in z axis\n",
      "Translated for -6 pixels\n",
      "Rotated -1.9021909182826855 degrees in x axis\n",
      "Rotated -4.998146281617025 degrees in y axis\n",
      "Rotated 4.866337293380834 degrees in z axis\n",
      "Translated for -7 pixels\n",
      "Rotated 1.298352598229851 degrees in x axis\n",
      "Rotated -3.5410281426119514 degrees in y axis\n",
      "Rotated -1.8951574715959216 degrees in z axis\n",
      "Translated for 9 pixels\n",
      "Rotated 1.4449911667088964 degrees in x axis\n",
      "Rotated 3.809554283056112 degrees in y axis\n",
      "Rotated 3.893559872394036 degrees in z axis\n",
      "Translated for -2 pixels\n",
      "Rotated -1.1255689835963034 degrees in x axis\n",
      "Rotated -1.365879735668818 degrees in y axis\n",
      "Rotated 4.7135365909747655 degrees in z axis\n",
      "Translated for 7 pixels\n",
      "Rotated -4.836274028732408 degrees in x axis\n",
      "Rotated -3.5908766405672865 degrees in y axis\n",
      "Rotated -1.6130384668874784 degrees in z axis\n",
      "Translated for -5 pixels\n",
      "Rotated -4.112174334201422 degrees in x axis\n",
      "Rotated -4.763455638794346 degrees in y axis\n",
      "Rotated -0.09513734570271382 degrees in z axis\n",
      "Translated for -2 pixels\n"
     ]
    },
    {
     "ename": "KeyboardInterrupt",
     "evalue": "",
     "output_type": "error",
     "traceback": [
      "\u001b[1;31m---------------------------------------------------------------------------\u001b[0m",
      "\u001b[1;31mKeyboardInterrupt\u001b[0m                         Traceback (most recent call last)",
      "Cell \u001b[1;32mIn[8], line 17\u001b[0m\n\u001b[0;32m     14\u001b[0m output_filename \u001b[38;5;241m=\u001b[39m image\u001b[38;5;241m.\u001b[39msplit(\u001b[38;5;124m\"\u001b[39m\u001b[38;5;124m.\u001b[39m\u001b[38;5;124m\"\u001b[39m)[\u001b[38;5;241m0\u001b[39m] \u001b[38;5;241m+\u001b[39m \u001b[38;5;124m\"\u001b[39m\u001b[38;5;124m.jpg\u001b[39m\u001b[38;5;124m\"\u001b[39m\n\u001b[0;32m     16\u001b[0m \u001b[38;5;66;03m# save the augmented data in \"data\" dir\u001b[39;00m\n\u001b[1;32m---> 17\u001b[0m \u001b[43msave_slice_from_3d_data\u001b[49m\u001b[43m(\u001b[49m\u001b[43mos\u001b[49m\u001b[38;5;241;43m.\u001b[39;49m\u001b[43mpath\u001b[49m\u001b[38;5;241;43m.\u001b[39;49m\u001b[43mjoin\u001b[49m\u001b[43m(\u001b[49m\u001b[43msource_data_dir\u001b[49m\u001b[43m,\u001b[49m\u001b[43m \u001b[49m\u001b[43mimage\u001b[49m\u001b[43m)\u001b[49m\u001b[43m,\u001b[49m\u001b[43m \u001b[49m\u001b[38;5;241;43m160\u001b[39;49m\u001b[43m,\u001b[49m\u001b[43m \u001b[49m\u001b[43moutput_train_dir\u001b[49m\u001b[43m,\u001b[49m\u001b[43m \u001b[49m\u001b[43moutput_filename\u001b[49m\u001b[43m,\u001b[49m\u001b[43m \u001b[49m\u001b[38;5;241;43m288\u001b[39;49m\u001b[43m,\u001b[49m\u001b[43m \u001b[49m\u001b[38;5;241;43m256\u001b[39;49m\u001b[43m,\u001b[49m\u001b[43m \u001b[49m\u001b[43maugment\u001b[49m\u001b[38;5;241;43m=\u001b[39;49m\u001b[38;5;28;43;01mTrue\u001b[39;49;00m\u001b[43m)\u001b[49m\n\u001b[0;32m     19\u001b[0m \u001b[38;5;66;03m# save the ground truth in \"gt\" directory\u001b[39;00m\n\u001b[0;32m     20\u001b[0m save_slice_from_3d_data(os\u001b[38;5;241m.\u001b[39mpath\u001b[38;5;241m.\u001b[39mjoin(source_data_dir, image), \u001b[38;5;241m160\u001b[39m, output_train_dir, output_filename, \u001b[38;5;241m288\u001b[39m, \u001b[38;5;241m256\u001b[39m, augment\u001b[38;5;241m=\u001b[39m\u001b[38;5;28;01mFalse\u001b[39;00m)\n",
      "Cell \u001b[1;32mIn[6], line 6\u001b[0m, in \u001b[0;36msave_slice_from_3d_data\u001b[1;34m(source_dir, slice_number, output_dir, output_filename, max_height, max_width, augment)\u001b[0m\n\u001b[0;32m      4\u001b[0m three_d_image_data \u001b[38;5;241m=\u001b[39m three_d_image\u001b[38;5;241m.\u001b[39mget_fdata()\n\u001b[0;32m      5\u001b[0m \u001b[38;5;28;01mif\u001b[39;00m augment:\n\u001b[1;32m----> 6\u001b[0m     image_slice \u001b[38;5;241m=\u001b[39m \u001b[43mimage_augmentation_util\u001b[49m\u001b[38;5;241;43m.\u001b[39;49m\u001b[43maugment_image\u001b[49m\u001b[43m(\u001b[49m\u001b[43mthree_d_image_data\u001b[49m\u001b[43m,\u001b[49m\u001b[43m \u001b[49m\u001b[43mmax_height\u001b[49m\u001b[38;5;241;43m=\u001b[39;49m\u001b[43mmax_height\u001b[49m\u001b[43m,\u001b[49m\u001b[43m \u001b[49m\u001b[43mmax_width\u001b[49m\u001b[38;5;241;43m=\u001b[39;49m\u001b[43mmax_width\u001b[49m\u001b[43m,\u001b[49m\u001b[43m \u001b[49m\u001b[43mthresh_translation\u001b[49m\u001b[38;5;241;43m=\u001b[39;49m\u001b[38;5;241;43m10\u001b[39;49m\u001b[43m,\u001b[49m\u001b[43m \u001b[49m\u001b[43mthresh_rotation_angle\u001b[49m\u001b[38;5;241;43m=\u001b[39;49m\u001b[38;5;241;43m5\u001b[39;49m\u001b[43m,\u001b[49m\u001b[43m \u001b[49m\u001b[43mslice_number\u001b[49m\u001b[38;5;241;43m=\u001b[39;49m\u001b[43mslice_number\u001b[49m\u001b[43m)\u001b[49m\n\u001b[0;32m      7\u001b[0m     output_path \u001b[38;5;241m=\u001b[39m os\u001b[38;5;241m.\u001b[39mpath\u001b[38;5;241m.\u001b[39mjoin(output_dir, \u001b[38;5;124m\"\u001b[39m\u001b[38;5;124mdata\u001b[39m\u001b[38;5;124m\"\u001b[39m, output_filename)\n\u001b[0;32m      8\u001b[0m \u001b[38;5;28;01melse\u001b[39;00m:\n",
      "File \u001b[1;32mc:\\Work\\Study\\Semester 1\\ENSF 619\\Final Project\\tiny_brains\\notebooks\\image_augmentation_util.py:62\u001b[0m, in \u001b[0;36maugment_image\u001b[1;34m(image, thresh_translation, thresh_rotation_angle, slice_number, max_height, max_width)\u001b[0m\n\u001b[0;32m     61\u001b[0m \u001b[38;5;28;01mdef\u001b[39;00m \u001b[38;5;21maugment_image\u001b[39m(image, thresh_translation, thresh_rotation_angle, slice_number, max_height, max_width):\n\u001b[1;32m---> 62\u001b[0m     augmented_3d_image_1 \u001b[38;5;241m=\u001b[39m \u001b[43maugment_3d_image\u001b[49m\u001b[43m(\u001b[49m\u001b[43mimage\u001b[49m\u001b[43m,\u001b[49m\u001b[43m \u001b[49m\u001b[43mthresh_translation\u001b[49m\u001b[43m,\u001b[49m\u001b[43m \u001b[49m\u001b[43mthresh_rotation_angle\u001b[49m\u001b[43m)\u001b[49m\n\u001b[0;32m     63\u001b[0m     augmented_3d_image_2 \u001b[38;5;241m=\u001b[39m augment_3d_image(augmented_3d_image_1, thresh_translation, thresh_rotation_angle)\n\u001b[0;32m     64\u001b[0m     augmented_3d_image_3 \u001b[38;5;241m=\u001b[39m augment_3d_image(augmented_3d_image_2, thresh_translation, thresh_rotation_angle)\n",
      "File \u001b[1;32mc:\\Work\\Study\\Semester 1\\ENSF 619\\Final Project\\tiny_brains\\notebooks\\image_augmentation_util.py:30\u001b[0m, in \u001b[0;36maugment_3d_image\u001b[1;34m(image, thresh_translation, thresh_rotation_angle)\u001b[0m\n\u001b[0;32m     28\u001b[0m \u001b[38;5;28;01mdef\u001b[39;00m \u001b[38;5;21maugment_3d_image\u001b[39m(image, thresh_translation, thresh_rotation_angle):\n\u001b[0;32m     29\u001b[0m     translated_3d_image \u001b[38;5;241m=\u001b[39m translate_3d_image(image, thresh_translation)\n\u001b[1;32m---> 30\u001b[0m     rotated_3d_image \u001b[38;5;241m=\u001b[39m \u001b[43mrotate_3d_image\u001b[49m\u001b[43m(\u001b[49m\u001b[43mtranslated_3d_image\u001b[49m\u001b[43m,\u001b[49m\u001b[43m \u001b[49m\u001b[43mthresh_rotation_angle\u001b[49m\u001b[43m)\u001b[49m\n\u001b[0;32m     32\u001b[0m     \u001b[38;5;28;01mreturn\u001b[39;00m rotated_3d_image\n",
      "File \u001b[1;32mc:\\Work\\Study\\Semester 1\\ENSF 619\\Final Project\\tiny_brains\\notebooks\\image_augmentation_util.py:19\u001b[0m, in \u001b[0;36mrotate_3d_image\u001b[1;34m(image, rotation_angle)\u001b[0m\n\u001b[0;32m     17\u001b[0m rot_x_image \u001b[38;5;241m=\u001b[39m ndi\u001b[38;5;241m.\u001b[39mrotate(image, rot_x, mode\u001b[38;5;241m=\u001b[39m\u001b[38;5;124m'\u001b[39m\u001b[38;5;124mnearest\u001b[39m\u001b[38;5;124m'\u001b[39m, axes\u001b[38;5;241m=\u001b[39m(\u001b[38;5;241m1\u001b[39m, \u001b[38;5;241m2\u001b[39m), reshape\u001b[38;5;241m=\u001b[39m\u001b[38;5;28;01mFalse\u001b[39;00m)\n\u001b[0;32m     18\u001b[0m rot_y_image \u001b[38;5;241m=\u001b[39m ndi\u001b[38;5;241m.\u001b[39mrotate(rot_x_image, rot_y, mode\u001b[38;5;241m=\u001b[39m\u001b[38;5;124m'\u001b[39m\u001b[38;5;124mnearest\u001b[39m\u001b[38;5;124m'\u001b[39m, axes\u001b[38;5;241m=\u001b[39m(\u001b[38;5;241m0\u001b[39m, \u001b[38;5;241m2\u001b[39m), reshape\u001b[38;5;241m=\u001b[39m\u001b[38;5;28;01mFalse\u001b[39;00m)\n\u001b[1;32m---> 19\u001b[0m rot_z_image \u001b[38;5;241m=\u001b[39m \u001b[43mndi\u001b[49m\u001b[38;5;241;43m.\u001b[39;49m\u001b[43mrotate\u001b[49m\u001b[43m(\u001b[49m\u001b[43mrot_y_image\u001b[49m\u001b[43m,\u001b[49m\u001b[43m \u001b[49m\u001b[43mrot_z\u001b[49m\u001b[43m,\u001b[49m\u001b[43m \u001b[49m\u001b[43mmode\u001b[49m\u001b[38;5;241;43m=\u001b[39;49m\u001b[38;5;124;43m'\u001b[39;49m\u001b[38;5;124;43mnearest\u001b[39;49m\u001b[38;5;124;43m'\u001b[39;49m\u001b[43m,\u001b[49m\u001b[43m \u001b[49m\u001b[43maxes\u001b[49m\u001b[38;5;241;43m=\u001b[39;49m\u001b[43m(\u001b[49m\u001b[38;5;241;43m0\u001b[39;49m\u001b[43m,\u001b[49m\u001b[43m \u001b[49m\u001b[38;5;241;43m1\u001b[39;49m\u001b[43m)\u001b[49m\u001b[43m,\u001b[49m\u001b[43m \u001b[49m\u001b[43mreshape\u001b[49m\u001b[38;5;241;43m=\u001b[39;49m\u001b[38;5;28;43;01mFalse\u001b[39;49;00m\u001b[43m)\u001b[49m\n\u001b[0;32m     21\u001b[0m \u001b[38;5;28mprint\u001b[39m(\u001b[38;5;124mf\u001b[39m\u001b[38;5;124m\"\u001b[39m\u001b[38;5;124mRotated \u001b[39m\u001b[38;5;132;01m{\u001b[39;00mrot_x\u001b[38;5;132;01m}\u001b[39;00m\u001b[38;5;124m degrees in x axis\u001b[39m\u001b[38;5;124m\"\u001b[39m)\n\u001b[0;32m     22\u001b[0m \u001b[38;5;28mprint\u001b[39m(\u001b[38;5;124mf\u001b[39m\u001b[38;5;124m\"\u001b[39m\u001b[38;5;124mRotated \u001b[39m\u001b[38;5;132;01m{\u001b[39;00mrot_y\u001b[38;5;132;01m}\u001b[39;00m\u001b[38;5;124m degrees in y axis\u001b[39m\u001b[38;5;124m\"\u001b[39m)\n",
      "File \u001b[1;32mc:\\Work\\Study\\Semester 1\\ENSF 619\\Final Project\\tiny_brains\\venv\\Lib\\site-packages\\scipy\\ndimage\\_interpolation.py:1007\u001b[0m, in \u001b[0;36mrotate\u001b[1;34m(input, angle, axes, reshape, output, order, mode, cval, prefilter)\u001b[0m\n\u001b[0;32m   1005\u001b[0m         ia \u001b[38;5;241m=\u001b[39m input_arr[coordinates]\n\u001b[0;32m   1006\u001b[0m         oa \u001b[38;5;241m=\u001b[39m output[coordinates]\n\u001b[1;32m-> 1007\u001b[0m         \u001b[43maffine_transform\u001b[49m\u001b[43m(\u001b[49m\u001b[43mia\u001b[49m\u001b[43m,\u001b[49m\u001b[43m \u001b[49m\u001b[43mrot_matrix\u001b[49m\u001b[43m,\u001b[49m\u001b[43m \u001b[49m\u001b[43moffset\u001b[49m\u001b[43m,\u001b[49m\u001b[43m \u001b[49m\u001b[43mout_plane_shape\u001b[49m\u001b[43m,\u001b[49m\n\u001b[0;32m   1008\u001b[0m \u001b[43m                         \u001b[49m\u001b[43moa\u001b[49m\u001b[43m,\u001b[49m\u001b[43m \u001b[49m\u001b[43morder\u001b[49m\u001b[43m,\u001b[49m\u001b[43m \u001b[49m\u001b[43mmode\u001b[49m\u001b[43m,\u001b[49m\u001b[43m \u001b[49m\u001b[43mcval\u001b[49m\u001b[43m,\u001b[49m\u001b[43m \u001b[49m\u001b[43mprefilter\u001b[49m\u001b[43m)\u001b[49m\n\u001b[0;32m   1010\u001b[0m \u001b[38;5;28;01mreturn\u001b[39;00m output\n",
      "File \u001b[1;32mc:\\Work\\Study\\Semester 1\\ENSF 619\\Final Project\\tiny_brains\\venv\\Lib\\site-packages\\scipy\\ndimage\\_interpolation.py:584\u001b[0m, in \u001b[0;36maffine_transform\u001b[1;34m(input, matrix, offset, output_shape, output, order, mode, cval, prefilter)\u001b[0m\n\u001b[0;32m    582\u001b[0m     \u001b[38;5;28;01mreturn\u001b[39;00m output\n\u001b[0;32m    583\u001b[0m \u001b[38;5;28;01mif\u001b[39;00m prefilter \u001b[38;5;129;01mand\u001b[39;00m order \u001b[38;5;241m>\u001b[39m \u001b[38;5;241m1\u001b[39m:\n\u001b[1;32m--> 584\u001b[0m     padded, npad \u001b[38;5;241m=\u001b[39m \u001b[43m_prepad_for_spline_filter\u001b[49m\u001b[43m(\u001b[49m\u001b[38;5;28;43minput\u001b[39;49m\u001b[43m,\u001b[49m\u001b[43m \u001b[49m\u001b[43mmode\u001b[49m\u001b[43m,\u001b[49m\u001b[43m \u001b[49m\u001b[43mcval\u001b[49m\u001b[43m)\u001b[49m\n\u001b[0;32m    585\u001b[0m     filtered \u001b[38;5;241m=\u001b[39m spline_filter(padded, order, output\u001b[38;5;241m=\u001b[39mnumpy\u001b[38;5;241m.\u001b[39mfloat64,\n\u001b[0;32m    586\u001b[0m                              mode\u001b[38;5;241m=\u001b[39mmode)\n\u001b[0;32m    587\u001b[0m \u001b[38;5;28;01melse\u001b[39;00m:\n",
      "File \u001b[1;32mc:\\Work\\Study\\Semester 1\\ENSF 619\\Final Project\\tiny_brains\\venv\\Lib\\site-packages\\scipy\\ndimage\\_interpolation.py:218\u001b[0m, in \u001b[0;36m_prepad_for_spline_filter\u001b[1;34m(input, mode, cval)\u001b[0m\n\u001b[0;32m    215\u001b[0m         padded \u001b[38;5;241m=\u001b[39m numpy\u001b[38;5;241m.\u001b[39mpad(\u001b[38;5;28minput\u001b[39m, npad, mode\u001b[38;5;241m=\u001b[39m\u001b[38;5;124m'\u001b[39m\u001b[38;5;124mconstant\u001b[39m\u001b[38;5;124m'\u001b[39m,\n\u001b[0;32m    216\u001b[0m                            constant_values\u001b[38;5;241m=\u001b[39mcval)\n\u001b[0;32m    217\u001b[0m     \u001b[38;5;28;01melif\u001b[39;00m mode \u001b[38;5;241m==\u001b[39m \u001b[38;5;124m'\u001b[39m\u001b[38;5;124mnearest\u001b[39m\u001b[38;5;124m'\u001b[39m:\n\u001b[1;32m--> 218\u001b[0m         padded \u001b[38;5;241m=\u001b[39m \u001b[43mnumpy\u001b[49m\u001b[38;5;241;43m.\u001b[39;49m\u001b[43mpad\u001b[49m\u001b[43m(\u001b[49m\u001b[38;5;28;43minput\u001b[39;49m\u001b[43m,\u001b[49m\u001b[43m \u001b[49m\u001b[43mnpad\u001b[49m\u001b[43m,\u001b[49m\u001b[43m \u001b[49m\u001b[43mmode\u001b[49m\u001b[38;5;241;43m=\u001b[39;49m\u001b[38;5;124;43m'\u001b[39;49m\u001b[38;5;124;43medge\u001b[39;49m\u001b[38;5;124;43m'\u001b[39;49m\u001b[43m)\u001b[49m\n\u001b[0;32m    219\u001b[0m \u001b[38;5;28;01melse\u001b[39;00m:\n\u001b[0;32m    220\u001b[0m     \u001b[38;5;66;03m# other modes have exact boundary conditions implemented so\u001b[39;00m\n\u001b[0;32m    221\u001b[0m     \u001b[38;5;66;03m# no prepadding is needed\u001b[39;00m\n\u001b[0;32m    222\u001b[0m     npad \u001b[38;5;241m=\u001b[39m \u001b[38;5;241m0\u001b[39m\n",
      "File \u001b[1;32m~\\AppData\\Local\\Programs\\Python\\Python311\\Lib\\site-packages\\numpy\\lib\\arraypad.py:801\u001b[0m, in \u001b[0;36mpad\u001b[1;34m(array, pad_width, mode, **kwargs)\u001b[0m\n\u001b[0;32m    798\u001b[0m padded, original_area_slice \u001b[38;5;241m=\u001b[39m _pad_simple(array, pad_width)\n\u001b[0;32m    799\u001b[0m \u001b[38;5;66;03m# And prepare iteration over all dimensions\u001b[39;00m\n\u001b[0;32m    800\u001b[0m \u001b[38;5;66;03m# (zipping may be more readable than using enumerate)\u001b[39;00m\n\u001b[1;32m--> 801\u001b[0m axes \u001b[38;5;241m=\u001b[39m \u001b[38;5;28mrange\u001b[39m(padded\u001b[38;5;241m.\u001b[39mndim)\n\u001b[0;32m    803\u001b[0m \u001b[38;5;28;01mif\u001b[39;00m mode \u001b[38;5;241m==\u001b[39m \u001b[38;5;124m\"\u001b[39m\u001b[38;5;124mconstant\u001b[39m\u001b[38;5;124m\"\u001b[39m:\n\u001b[0;32m    804\u001b[0m     values \u001b[38;5;241m=\u001b[39m kwargs\u001b[38;5;241m.\u001b[39mget(\u001b[38;5;124m\"\u001b[39m\u001b[38;5;124mconstant_values\u001b[39m\u001b[38;5;124m\"\u001b[39m, \u001b[38;5;241m0\u001b[39m)\n",
      "\u001b[1;31mKeyboardInterrupt\u001b[0m: "
     ]
    }
   ],
   "source": [
    "shapes = []\n",
    "\n",
    "random.shuffle(images)\n",
    "\n",
    "train_split = 0.9\n",
    "\n",
    "train_images = images[:int(len(images) * train_split)]\n",
    "test_images = images[int(len(images) * train_split):]\n",
    "\n",
    "for image in train_images:\n",
    "    if image.endswith(\"DS_Store\"):\n",
    "        continue\n",
    "        \n",
    "    output_filename = image.split(\".\")[0] + \".jpg\"\n",
    "\n",
    "    # save the augmented data in \"data\" dir\n",
    "    save_slice_from_3d_data(os.path.join(source_data_dir, image), 160, output_train_dir, output_filename, 288, 256, augment=True)\n",
    "\n",
    "    # save the ground truth in \"gt\" directory\n",
    "    save_slice_from_3d_data(os.path.join(source_data_dir, image), 160, output_train_dir, output_filename, 288, 256, augment=False)\n",
    "    \n",
    "for image in test_images:\n",
    "    if image.endswith(\"DS_Store\"):\n",
    "        continue\n",
    "    \n",
    "    output_filename = image.split(\".\")[0] + \".jpg\"\n",
    "\n",
    "    # save the augmented data in \"data\" dir\n",
    "    save_slice_from_3d_data(os.path.join(source_data_dir, image), 160, output_val_dir, output_filename, 288, 256, augment=True)\n",
    "\n",
    "    # save the ground truth in \"gt\" directory\n",
    "    save_slice_from_3d_data(os.path.join(source_data_dir, image), 160, output_val_dir, output_filename, 288, 256, augment=False)"
   ]
  },
  {
   "cell_type": "code",
   "execution_count": null,
   "id": "b8a3b311153f4fac",
   "metadata": {
    "ExecuteTime": {
     "end_time": "2024-03-22T20:04:17.828483Z",
     "start_time": "2024-03-22T20:04:17.827022Z"
    },
    "collapsed": false
   },
   "outputs": [],
   "source": [
    "shapes = np.array(shapes)"
   ]
  },
  {
   "cell_type": "code",
   "execution_count": null,
   "id": "f980c780f51f3f9c",
   "metadata": {
    "ExecuteTime": {
     "end_time": "2024-03-22T20:04:17.832671Z",
     "start_time": "2024-03-22T20:04:17.828712Z"
    },
    "collapsed": false
   },
   "outputs": [
    {
     "data": {
      "text/plain": [
       "array([[288, 256],\n",
       "       [288, 256],\n",
       "       [288, 256],\n",
       "       [288, 256],\n",
       "       [288, 256],\n",
       "       [288, 256],\n",
       "       [288, 256],\n",
       "       [288, 256],\n",
       "       [288, 256],\n",
       "       [288, 256],\n",
       "       [288, 256],\n",
       "       [288, 256],\n",
       "       [288, 256],\n",
       "       [288, 256],\n",
       "       [288, 256],\n",
       "       [288, 256],\n",
       "       [288, 256],\n",
       "       [288, 256],\n",
       "       [288, 256],\n",
       "       [288, 256],\n",
       "       [288, 256],\n",
       "       [288, 256],\n",
       "       [288, 256],\n",
       "       [288, 256],\n",
       "       [288, 256],\n",
       "       [288, 256],\n",
       "       [288, 256],\n",
       "       [288, 256],\n",
       "       [288, 256],\n",
       "       [288, 256],\n",
       "       [288, 256],\n",
       "       [288, 256],\n",
       "       [288, 256],\n",
       "       [288, 256],\n",
       "       [288, 256],\n",
       "       [288, 256],\n",
       "       [288, 256],\n",
       "       [288, 256],\n",
       "       [288, 256],\n",
       "       [288, 256],\n",
       "       [288, 256],\n",
       "       [288, 256],\n",
       "       [288, 256],\n",
       "       [288, 256],\n",
       "       [288, 256],\n",
       "       [288, 256],\n",
       "       [288, 256],\n",
       "       [288, 256],\n",
       "       [288, 256],\n",
       "       [288, 256],\n",
       "       [288, 256],\n",
       "       [288, 256],\n",
       "       [288, 256],\n",
       "       [288, 256],\n",
       "       [288, 256],\n",
       "       [288, 256],\n",
       "       [288, 256],\n",
       "       [288, 256],\n",
       "       [288, 256],\n",
       "       [288, 256],\n",
       "       [288, 256],\n",
       "       [288, 256],\n",
       "       [288, 256],\n",
       "       [288, 256],\n",
       "       [288, 256],\n",
       "       [288, 256],\n",
       "       [288, 256],\n",
       "       [288, 256],\n",
       "       [288, 256],\n",
       "       [288, 256],\n",
       "       [288, 256],\n",
       "       [288, 256],\n",
       "       [288, 256],\n",
       "       [288, 256],\n",
       "       [288, 256],\n",
       "       [288, 256],\n",
       "       [288, 256],\n",
       "       [288, 256],\n",
       "       [288, 256],\n",
       "       [288, 256],\n",
       "       [288, 256],\n",
       "       [288, 256],\n",
       "       [288, 256],\n",
       "       [288, 256],\n",
       "       [288, 256],\n",
       "       [288, 256],\n",
       "       [288, 256],\n",
       "       [288, 256],\n",
       "       [288, 256],\n",
       "       [288, 256],\n",
       "       [288, 256],\n",
       "       [288, 256],\n",
       "       [288, 256],\n",
       "       [288, 256],\n",
       "       [288, 256],\n",
       "       [288, 256],\n",
       "       [288, 256],\n",
       "       [288, 256],\n",
       "       [288, 256],\n",
       "       [288, 256],\n",
       "       [288, 256],\n",
       "       [288, 256],\n",
       "       [288, 256],\n",
       "       [288, 256],\n",
       "       [288, 256],\n",
       "       [288, 256],\n",
       "       [288, 256],\n",
       "       [288, 256],\n",
       "       [288, 256],\n",
       "       [288, 256],\n",
       "       [288, 256],\n",
       "       [288, 256],\n",
       "       [288, 256],\n",
       "       [288, 256],\n",
       "       [288, 256],\n",
       "       [288, 256],\n",
       "       [288, 256],\n",
       "       [288, 256],\n",
       "       [288, 256],\n",
       "       [288, 256],\n",
       "       [288, 256],\n",
       "       [288, 256],\n",
       "       [288, 256],\n",
       "       [288, 256],\n",
       "       [288, 256],\n",
       "       [288, 256],\n",
       "       [288, 256],\n",
       "       [288, 256],\n",
       "       [288, 256],\n",
       "       [288, 256],\n",
       "       [288, 256],\n",
       "       [288, 256],\n",
       "       [288, 256],\n",
       "       [288, 256],\n",
       "       [288, 256],\n",
       "       [288, 256],\n",
       "       [288, 256],\n",
       "       [288, 256],\n",
       "       [288, 256],\n",
       "       [288, 256],\n",
       "       [288, 256],\n",
       "       [288, 256],\n",
       "       [288, 256],\n",
       "       [288, 256],\n",
       "       [288, 256],\n",
       "       [288, 256],\n",
       "       [288, 256],\n",
       "       [288, 256],\n",
       "       [288, 256],\n",
       "       [288, 256],\n",
       "       [288, 256],\n",
       "       [288, 256],\n",
       "       [288, 256],\n",
       "       [288, 256],\n",
       "       [288, 256],\n",
       "       [288, 256],\n",
       "       [288, 256],\n",
       "       [288, 256],\n",
       "       [288, 256],\n",
       "       [288, 256],\n",
       "       [288, 256],\n",
       "       [288, 256],\n",
       "       [288, 256],\n",
       "       [288, 256],\n",
       "       [288, 256],\n",
       "       [288, 256],\n",
       "       [288, 256],\n",
       "       [288, 256],\n",
       "       [288, 256],\n",
       "       [288, 256],\n",
       "       [288, 256],\n",
       "       [288, 256],\n",
       "       [288, 256],\n",
       "       [288, 256],\n",
       "       [288, 256],\n",
       "       [288, 256],\n",
       "       [288, 256],\n",
       "       [288, 256],\n",
       "       [288, 256],\n",
       "       [288, 256],\n",
       "       [288, 256],\n",
       "       [288, 256],\n",
       "       [288, 256],\n",
       "       [288, 256],\n",
       "       [288, 256],\n",
       "       [288, 256],\n",
       "       [288, 256],\n",
       "       [288, 256],\n",
       "       [288, 256],\n",
       "       [288, 256],\n",
       "       [288, 256],\n",
       "       [288, 256],\n",
       "       [288, 256],\n",
       "       [288, 256],\n",
       "       [288, 256],\n",
       "       [288, 256],\n",
       "       [288, 256],\n",
       "       [288, 256],\n",
       "       [288, 256],\n",
       "       [288, 256],\n",
       "       [288, 256],\n",
       "       [288, 256],\n",
       "       [288, 256],\n",
       "       [288, 256],\n",
       "       [288, 256],\n",
       "       [288, 256],\n",
       "       [288, 256],\n",
       "       [288, 256],\n",
       "       [288, 256],\n",
       "       [288, 256],\n",
       "       [288, 256],\n",
       "       [288, 256],\n",
       "       [288, 256],\n",
       "       [288, 256],\n",
       "       [288, 256],\n",
       "       [288, 256],\n",
       "       [288, 256],\n",
       "       [288, 256],\n",
       "       [288, 256],\n",
       "       [288, 256],\n",
       "       [288, 256],\n",
       "       [288, 256],\n",
       "       [288, 256],\n",
       "       [288, 256],\n",
       "       [288, 256],\n",
       "       [288, 256],\n",
       "       [288, 256],\n",
       "       [288, 256],\n",
       "       [288, 256],\n",
       "       [288, 256],\n",
       "       [288, 256],\n",
       "       [288, 256],\n",
       "       [288, 256],\n",
       "       [288, 256],\n",
       "       [288, 256],\n",
       "       [288, 256],\n",
       "       [288, 256],\n",
       "       [288, 256],\n",
       "       [288, 256],\n",
       "       [288, 256],\n",
       "       [288, 256],\n",
       "       [288, 256],\n",
       "       [288, 256],\n",
       "       [288, 256],\n",
       "       [288, 256],\n",
       "       [288, 256],\n",
       "       [288, 256],\n",
       "       [288, 256],\n",
       "       [288, 256],\n",
       "       [288, 256],\n",
       "       [288, 256],\n",
       "       [288, 256],\n",
       "       [288, 256],\n",
       "       [288, 256],\n",
       "       [288, 256],\n",
       "       [288, 256],\n",
       "       [288, 256],\n",
       "       [288, 256],\n",
       "       [288, 256],\n",
       "       [288, 256],\n",
       "       [288, 256],\n",
       "       [288, 256],\n",
       "       [288, 256],\n",
       "       [288, 256],\n",
       "       [288, 256],\n",
       "       [288, 256],\n",
       "       [288, 256],\n",
       "       [288, 256],\n",
       "       [288, 256],\n",
       "       [288, 256],\n",
       "       [288, 256],\n",
       "       [288, 256],\n",
       "       [288, 256],\n",
       "       [288, 256],\n",
       "       [288, 256],\n",
       "       [288, 256],\n",
       "       [288, 256],\n",
       "       [288, 256],\n",
       "       [288, 256],\n",
       "       [288, 256],\n",
       "       [288, 256],\n",
       "       [288, 256],\n",
       "       [288, 256],\n",
       "       [288, 256],\n",
       "       [288, 256],\n",
       "       [288, 256],\n",
       "       [288, 256],\n",
       "       [288, 256],\n",
       "       [288, 256],\n",
       "       [288, 256],\n",
       "       [288, 256],\n",
       "       [288, 256],\n",
       "       [288, 256],\n",
       "       [288, 256],\n",
       "       [288, 256],\n",
       "       [288, 256],\n",
       "       [288, 256],\n",
       "       [288, 256],\n",
       "       [288, 256],\n",
       "       [288, 256],\n",
       "       [288, 256],\n",
       "       [288, 256],\n",
       "       [288, 256],\n",
       "       [288, 256],\n",
       "       [288, 256],\n",
       "       [288, 256],\n",
       "       [288, 256],\n",
       "       [288, 256],\n",
       "       [288, 256],\n",
       "       [288, 256],\n",
       "       [288, 256],\n",
       "       [288, 256],\n",
       "       [288, 256],\n",
       "       [288, 256],\n",
       "       [288, 256],\n",
       "       [288, 256],\n",
       "       [288, 256],\n",
       "       [288, 256],\n",
       "       [288, 256],\n",
       "       [288, 256],\n",
       "       [288, 256],\n",
       "       [288, 256],\n",
       "       [288, 256],\n",
       "       [288, 256],\n",
       "       [288, 256],\n",
       "       [288, 256],\n",
       "       [288, 256],\n",
       "       [288, 256],\n",
       "       [288, 256],\n",
       "       [288, 256],\n",
       "       [288, 256],\n",
       "       [288, 256],\n",
       "       [288, 256],\n",
       "       [288, 256],\n",
       "       [288, 256],\n",
       "       [288, 256],\n",
       "       [288, 256],\n",
       "       [288, 256],\n",
       "       [288, 256],\n",
       "       [288, 256],\n",
       "       [288, 256],\n",
       "       [288, 256],\n",
       "       [288, 256],\n",
       "       [288, 256],\n",
       "       [288, 256],\n",
       "       [288, 256],\n",
       "       [288, 256],\n",
       "       [288, 256],\n",
       "       [288, 256],\n",
       "       [288, 256],\n",
       "       [288, 256],\n",
       "       [288, 256],\n",
       "       [288, 256],\n",
       "       [288, 256],\n",
       "       [288, 256],\n",
       "       [288, 256],\n",
       "       [288, 256],\n",
       "       [288, 256],\n",
       "       [288, 256]])"
      ]
     },
     "execution_count": 9,
     "metadata": {},
     "output_type": "execute_result"
    }
   ],
   "source": [
    "shapes"
   ]
  },
  {
   "cell_type": "code",
   "execution_count": null,
   "id": "71afce916c472ad0",
   "metadata": {
    "ExecuteTime": {
     "end_time": "2024-03-22T20:08:54.607434Z",
     "start_time": "2024-03-22T20:08:54.598541Z"
    },
    "collapsed": false
   },
   "outputs": [
    {
     "data": {
      "text/plain": [
       "array([288, 256])"
      ]
     },
     "execution_count": 10,
     "metadata": {},
     "output_type": "execute_result"
    }
   ],
   "source": [
    "shapes.max(axis=0)"
   ]
  },
  {
   "cell_type": "code",
   "execution_count": null,
   "id": "76a6f60eddf43cbd",
   "metadata": {
    "ExecuteTime": {
     "end_time": "2024-03-20T17:55:03.604004Z",
     "start_time": "2024-03-20T17:55:03.599187Z"
    },
    "collapsed": false
   },
   "outputs": [],
   "source": [
    "sample_image = read_3d_image(os.path.join(source_data_dir, images[0]))"
   ]
  },
  {
   "cell_type": "code",
   "execution_count": null,
   "id": "58addc5d1e91099a",
   "metadata": {
    "ExecuteTime": {
     "end_time": "2024-03-20T17:55:04.543957Z",
     "start_time": "2024-03-20T17:55:04.481093Z"
    },
    "collapsed": false
   },
   "outputs": [],
   "source": [
    "sample_image = sample_image.get_fdata()\n",
    "sample_image = ndi.rotate(sample_image[:, :, 160], 90)"
   ]
  },
  {
   "cell_type": "code",
   "execution_count": null,
   "id": "1bcd93d0d65b2a29",
   "metadata": {
    "ExecuteTime": {
     "end_time": "2024-03-20T17:55:05.320386Z",
     "start_time": "2024-03-20T17:55:05.248600Z"
    },
    "collapsed": false
   },
   "outputs": [
    {
     "data": {
      "image/png": "[encoded data removed]",
      "text/plain": [
       "<Figure size 640x480 with 1 Axes>"
      ]
     },
     "metadata": {},
     "output_type": "display_data"
    }
   ],
   "source": [
    "plt.imshow(sample_image, cmap=\"gray\")\n",
    "plt.axis(\"off\")\n",
    "plt.show()"
   ]
  },
  {
   "cell_type": "code",
   "execution_count": null,
   "id": "f039c7f8e7c905cd",
   "metadata": {
    "ExecuteTime": {
     "end_time": "2024-03-20T17:55:20.277822Z",
     "start_time": "2024-03-20T17:55:20.273894Z"
    },
    "collapsed": false
   },
   "outputs": [],
   "source": [
    "sample_image_pil = Image.fromarray(sample_image)\n",
    "sample_image_pil = sample_image_pil.convert('L')\n",
    "sample_image_pil.save(\"test_image_slice.jpg\")"
   ]
  },
  {
   "cell_type": "code",
   "execution_count": null,
   "id": "2ac5d601df4460b6",
   "metadata": {
    "ExecuteTime": {
     "end_time": "2024-03-20T17:55:20.482793Z",
     "start_time": "2024-03-20T17:55:20.478415Z"
    },
    "collapsed": false
   },
   "outputs": [
    {
     "data": {
      "text/plain": [
       "True"
      ]
     },
     "execution_count": 15,
     "metadata": {},
     "output_type": "execute_result"
    }
   ],
   "source": [
    "cv2.imwrite(\"test_image_slice_cv.jpg\", sample_image)"
   ]
  },
  {
   "cell_type": "code",
   "execution_count": null,
   "id": "278576be22fd19da",
   "metadata": {
    "ExecuteTime": {
     "end_time": "2024-03-20T17:55:21.425554Z",
     "start_time": "2024-03-20T17:55:21.419831Z"
    },
    "collapsed": false
   },
   "outputs": [],
   "source": [
    "# shape = sample_image.shape\n",
    "\n",
    "image_scaled = minmax_scale(sample_image.ravel(), feature_range=(0,255)).reshape(sample_image.shape)"
   ]
  },
  {
   "cell_type": "code",
   "execution_count": null,
   "id": "d7b11c9fa2126425",
   "metadata": {
    "ExecuteTime": {
     "end_time": "2024-03-20T17:55:21.929968Z",
     "start_time": "2024-03-20T17:55:21.900476Z"
    },
    "collapsed": false
   },
   "outputs": [
    {
     "data": {
      "text/plain": [
       "True"
      ]
     },
     "execution_count": 17,
     "metadata": {},
     "output_type": "execute_result"
    }
   ],
   "source": [
    "cv2.imwrite(\"test_image_slice_cv_scaled.jpg\", image_scaled)"
   ]
  },
  {
   "cell_type": "code",
   "execution_count": null,
   "id": "3c1f686be497823e",
   "metadata": {
    "collapsed": false
   },
   "outputs": [],
   "source": []
  }
 ],
 "metadata": {
  "kernelspec": {
   "display_name": "Python 3",
   "language": "python",
   "name": "python3"
  },
  "language_info": {
   "codemirror_mode": {
    "name": "ipython",
    "version": 3
   },
   "file_extension": ".py",
   "mimetype": "text/x-python",
   "name": "python",
   "nbconvert_exporter": "python",
   "pygments_lexer": "ipython3",
   "version": "3.11.8"
  }
 },
 "nbformat": 4,
 "nbformat_minor": 5
}
