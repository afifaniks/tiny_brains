{
 "cells": [
  {
   "cell_type": "code",
   "execution_count": 15,
   "metadata": {},
   "outputs": [],
   "source": [
    "import torchio as tio\n",
    "import os\n",
    "import nibabel as nib"
   ]
  },
  {
   "cell_type": "code",
   "execution_count": 16,
   "metadata": {},
   "outputs": [],
   "source": [
    "source_data_dir = \"../assets/source_images\""
   ]
  },
  {
   "cell_type": "code",
   "execution_count": 17,
   "metadata": {},
   "outputs": [],
   "source": [
    "source_mask_dir = \"../assets/skull_stripping_masks\""
   ]
  },
  {
   "cell_type": "code",
   "execution_count": 18,
   "metadata": {},
   "outputs": [],
   "source": [
    "destination_data_dir = \"../assets/cc_motion_corrupted\""
   ]
  },
  {
   "cell_type": "code",
   "execution_count": 19,
   "metadata": {},
   "outputs": [],
   "source": [
    "motion_transformation = tio.transforms.RandomMotion(\n",
    "    degrees=5,\n",
    "    translation=10,\n",
    "    num_transforms=3\n",
    ")"
   ]
  },
  {
   "cell_type": "code",
   "execution_count": 20,
   "metadata": {},
   "outputs": [],
   "source": [
    "source_images = os.listdir(source_data_dir)"
   ]
  },
  {
   "cell_type": "code",
   "execution_count": 21,
   "metadata": {},
   "outputs": [],
   "source": [
    "def apply_mask(image, mask):\n",
    "    image_array = image.get_fdata()\n",
    "    mask_array = mask.get_fdata()\n",
    "\n",
    "    mask_array = mask_array.astype(bool)\n",
    "\n",
    "    masked_image_array = image_array * mask_array\n",
    "\n",
    "    masked_image = nib.Nifti1Image(masked_image_array, image.affine)\n",
    "\n",
    "    return masked_image"
   ]
  },
  {
   "cell_type": "code",
   "execution_count": 22,
   "metadata": {},
   "outputs": [
    {
     "name": "stdout",
     "output_type": "stream",
     "text": [
      "Now processing: CC0184_siemens_3_60_M.nii\n",
      "Now processing: CC0072_philips_3_31_M.nii\n",
      "Now processing: CC0235_siemens_3_61_M.nii\n",
      "Now processing: CC0198_siemens_3_59_F.nii\n",
      "Now processing: CC0083_philips_3_66_M.nii\n"
     ]
    }
   ],
   "source": [
    "for image in source_images:\n",
    "    print(f\"Now processing: {image}\")\n",
    "\n",
    "    if image == \".DS_Store\":\n",
    "        continue\n",
    "\n",
    "    three_d_image = nib.load(os.path.join(source_data_dir, image))\n",
    "    image_mask = nib.load(os.path.join(source_mask_dir, image.split(\".\")[0] + \"_staple\" + \".nii\"))\n",
    "\n",
    "    three_d_image = apply_mask(three_d_image, image_mask)\n",
    "\n",
    "    transformed_image = motion_transformation(three_d_image)\n",
    "    nib.save(transformed_image, os.path.join(destination_data_dir, image))"
   ]
  },
  {
   "cell_type": "code",
   "execution_count": null,
   "metadata": {},
   "outputs": [],
   "source": []
  }
 ],
 "metadata": {
  "kernelspec": {
   "display_name": "venv",
   "language": "python",
   "name": "python3"
  },
  "language_info": {
   "codemirror_mode": {
    "name": "ipython",
    "version": 3
   },
   "file_extension": ".py",
   "mimetype": "text/x-python",
   "name": "python",
   "nbconvert_exporter": "python",
   "pygments_lexer": "ipython3",
   "version": "3.12.1"
  }
 },
 "nbformat": 4,
 "nbformat_minor": 2
}
