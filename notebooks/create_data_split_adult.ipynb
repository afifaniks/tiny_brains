{
 "cells": [
  {
   "cell_type": "code",
   "execution_count": 6,
   "metadata": {},
   "outputs": [],
   "source": [
    "import os\n",
    "import shutil\n",
    "from sklearn.model_selection import train_test_split"
   ]
  },
  {
   "cell_type": "code",
   "execution_count": 9,
   "metadata": {},
   "outputs": [],
   "source": [
    "source_gt_data_dir = \"../assets/source_images\"\n",
    "source_motion_data_dir = \"../assets/cc_motion_corrupted\""
   ]
  },
  {
   "cell_type": "code",
   "execution_count": 7,
   "metadata": {},
   "outputs": [],
   "source": [
    "destination_gt_train_data_dir = \"../assets/source_images_train\"\n",
    "destination_gt_val_data_dir = \"../assets/source_images_val\"\n",
    "\n",
    "destination_motion_train_data_dir = \"../assets/cc_motion_corrupted_train\"\n",
    "destination_motion_val_data_dir = \"../assets/cc_motion_corrupted_val\""
   ]
  },
  {
   "cell_type": "code",
   "execution_count": 3,
   "metadata": {},
   "outputs": [],
   "source": [
    "images = os.listdir(source_gt_data_dir)"
   ]
  },
  {
   "cell_type": "code",
   "execution_count": 4,
   "metadata": {},
   "outputs": [],
   "source": [
    "train_images, val_images = train_test_split(images, train_size=0.8, random_state=42, shuffle=True)"
   ]
  },
  {
   "cell_type": "code",
   "execution_count": 11,
   "metadata": {},
   "outputs": [],
   "source": [
    "for image in train_images:\n",
    "    shutil.copy(os.path.join(source_gt_data_dir, image), os.path.join(destination_gt_train_data_dir, image))\n",
    "    shutil.copy(os.path.join(source_motion_data_dir, image), os.path.join(destination_motion_train_data_dir, image))"
   ]
  },
  {
   "cell_type": "code",
   "execution_count": 12,
   "metadata": {},
   "outputs": [],
   "source": [
    "for image in val_images:\n",
    "    shutil.copy(os.path.join(source_gt_data_dir, image), os.path.join(destination_gt_val_data_dir, image))\n",
    "    shutil.copy(os.path.join(source_motion_data_dir, image), os.path.join(destination_motion_val_data_dir, image))"
   ]
  },
  {
   "cell_type": "code",
   "execution_count": null,
   "metadata": {},
   "outputs": [],
   "source": []
  }
 ],
 "metadata": {
  "kernelspec": {
   "display_name": "Python 3",
   "language": "python",
   "name": "python3"
  },
  "language_info": {
   "codemirror_mode": {
    "name": "ipython",
    "version": 3
   },
   "file_extension": ".py",
   "mimetype": "text/x-python",
   "name": "python",
   "nbconvert_exporter": "python",
   "pygments_lexer": "ipython3",
   "version": "3.11.8"
  }
 },
 "nbformat": 4,
 "nbformat_minor": 2
}
